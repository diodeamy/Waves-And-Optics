{
 "cells": [
  {
   "cell_type": "markdown",
   "id": "b3322d4b",
   "metadata": {},
   "source": [
    "# Function Definition"
   ]
  },
  {
   "cell_type": "code",
   "execution_count": 79,
   "id": "1df5895d",
   "metadata": {},
   "outputs": [],
   "source": [
    "from scipy import optimize\n",
    "import math\n",
    "import numpy as np\n",
    "import pandas as pd\n",
    "import matplotlib.pyplot as plt\n",
    "from scipy.stats import linregress"
   ]
  },
  {
   "cell_type": "code",
   "execution_count": 3,
   "id": "44c3ef02",
   "metadata": {},
   "outputs": [],
   "source": [
    "def F(m, phi_i, d = 1*10**(-3), lam = 650*10**(-9)):\n",
    "    \"\"\"\"\n",
    "    This function takes as inputs the parameters from our experiment and returns another function, only in terms\n",
    "    of n, such that it can later be optimized while taking our parameteres as fixed.\n",
    "    \n",
    "    Parameters\n",
    "    -------\n",
    "    m : the number of fringes counter\n",
    "    d : thickness of the material plate\n",
    "    lam : wavelength of the light source\n",
    "    phi_i : angle through which we rotate the plate, to the normal angle of mirror\n",
    "    \n",
    "    Returns\n",
    "    -------\n",
    "    funk_to_optimize : a function containing the parameters as fixed, in terms of refractive index 'n'\n",
    "    \n",
    "    Notes\n",
    "    -------\n",
    "    \n",
    "    \"\"\"\n",
    "    \n",
    "    def funk_to_optimize(n):\n",
    "        \n",
    "        phi_r = math.asin(math.sin(phi_i)/n)\n",
    "        \n",
    "        return m - (2*d)/lam * (n*(1/math.cos(phi_r) - 1)\n",
    "                                + 1 - (math.cos(phi_i - phi_r)/math.cos(phi_r)))\n",
    "    \n",
    "    return funk_to_optimize"
   ]
  },
  {
   "cell_type": "code",
   "execution_count": 4,
   "id": "abecf076",
   "metadata": {},
   "outputs": [],
   "source": [
    "def refrakt(input_data, x0 = 1.4, x1 = 1.5):\n",
    "    \"\"\"\n",
    "    This one takes a list of data and returns the refractive index\n",
    "    \n",
    "    Params\n",
    "    -------\n",
    "    input_data : experimental data that contains number of fringes \n",
    "                 and angle of rotation\n",
    "    x0 = initial guess for optimization algorithm\n",
    "    x1 = second guess for optimization algorithm\n",
    "    \n",
    "    Returns\n",
    "    -------\n",
    "    output_data : list of refractive indices\n",
    "    \n",
    "    Example\n",
    "    -------\n",
    "    >>>refrakt([[20, 10.4], [40, 14.7]])\n",
    "    [4.79289677e+34, 4.28057195e+31]\n",
    "    \n",
    "    Notes\n",
    "    -------\n",
    "    We know that we are measuring glass-like material, so we expect \n",
    "    the refractive index to be somewhere between 1.4 and 1.5, hence \n",
    "    the default values for the initial two guesses\n",
    "    \n",
    "    \"\"\"\n",
    "    output_data = []\n",
    "    \n",
    "    for arr in input_data:\n",
    "        \n",
    "        m = arr[0]\n",
    "        phi_i = arr[1]\n",
    "    \n",
    "        func = F(m, phi_i)\n",
    "        n = optimize.root_scalar(func, x0 = x0, x1 = x1)\n",
    "    \n",
    "        output_data.append(n.root)\n",
    "        \n",
    "    return output_data"
   ]
  },
  {
   "cell_type": "markdown",
   "id": "0f41d879",
   "metadata": {},
   "source": [
    "# Data Import and Analysis"
   ]
  },
  {
   "cell_type": "code",
   "execution_count": 59,
   "id": "a0d08ca3",
   "metadata": {},
   "outputs": [],
   "source": [
    "def load(url):\n",
    "    run = pd.read_csv(url, dtype = \"float\").to_numpy()\n",
    "    \n",
    "    run[:,1] = np.radians(data[:,1])\n",
    "    \n",
    "    return run"
   ]
  },
  {
   "cell_type": "code",
   "execution_count": 61,
   "id": "24469b39",
   "metadata": {},
   "outputs": [],
   "source": [
    "runB1 = load(\"https://raw.githubusercontent.com/diodeamy/Waves-And-Optics/main/data/data_BR1.csv\")\n",
    "runB2 = load(\"https://raw.githubusercontent.com/diodeamy/Waves-And-Optics/main/data/data_BR2.csv\")\n",
    "runB3 = load(\"https://raw.githubusercontent.com/diodeamy/Waves-And-Optics/main/data/data_BR3.csv\")\n",
    "runW1 = load(\"https://raw.githubusercontent.com/diodeamy/Waves-And-Optics/main/data/data_WR1.csv\")\n",
    "runW2 = load(\"https://raw.githubusercontent.com/diodeamy/Waves-And-Optics/main/data/data_WR2.csv\")"
   ]
  },
  {
   "cell_type": "code",
   "execution_count": 6,
   "id": "3781502b",
   "metadata": {},
   "outputs": [],
   "source": [
    "#here we wish to make a function that returns the refractive indeces for each pair of angle-fringe \n",
    "#we also wish for it to compute y and x values to be plotted for the error function (this will need to take\n",
    "#the errors of angle and lalal into account)"
   ]
  },
  {
   "cell_type": "code",
   "execution_count": 86,
   "id": "1ff4590a",
   "metadata": {},
   "outputs": [],
   "source": [
    "def matias(run):\n",
    "    \n",
    "    lam = 650*10**(-9)\n",
    "    d = 1*10**3\n",
    "    phi_i = run[:,1]\n",
    "    m = run[:,0]\n",
    "    \n",
    "    n = np.array(refrakt(run))\n",
    "    \n",
    "    phi_r = np.arcsin(np.sin(phi_i/n))\n",
    "    \n",
    "    y = (lam/2*d)*m - 1 + np.cos(phi_i - phi_r)/np.cos(phi_r)\n",
    "    \n",
    "    x = 1/np.cos(phi_r) - 1\n",
    "    \n",
    "    return (x, y)"
   ]
  },
  {
   "cell_type": "code",
   "execution_count": 87,
   "id": "dd08fd96",
   "metadata": {},
   "outputs": [
    {
     "name": "stderr",
     "output_type": "stream",
     "text": [
      "/Users/ruxi/opt/anaconda3/lib/python3.9/site-packages/scipy/optimize/zeros.py:341: RuntimeWarning: Tolerance of 7.590522150624823e+24 reached.\n",
      "  warnings.warn(msg, RuntimeWarning)\n",
      "/Users/ruxi/opt/anaconda3/lib/python3.9/site-packages/scipy/optimize/zeros.py:341: RuntimeWarning: Tolerance of 1.1113529697057186e+24 reached.\n",
      "  warnings.warn(msg, RuntimeWarning)\n"
     ]
    }
   ],
   "source": [
    "(x, y) = matias(runB1)"
   ]
  },
  {
   "cell_type": "code",
   "execution_count": 91,
   "id": "5b4e4792",
   "metadata": {},
   "outputs": [
    {
     "data": {
      "text/plain": [
       "LinregressResult(slope=1.5322068676842604, intercept=-0.00018446892670482412, rvalue=0.9992915279314059, pvalue=1.9568409239738186e-41, stderr=0.010905500770769672, intercept_stderr=0.00030873436420126844)"
      ]
     },
     "execution_count": 91,
     "metadata": {},
     "output_type": "execute_result"
    }
   ],
   "source": [
    "# lin reg with errors: https://stackoverflow.com/questions/22670057/linear-fitting-in-python-with-uncertainty-in-both-x-and-y-coordinates\n",
    "\n",
    "# look at this after you have errors\n",
    "\n",
    "result = linregress(x, y)\n",
    "result"
   ]
  },
  {
   "cell_type": "code",
   "execution_count": 89,
   "id": "dcd0e166",
   "metadata": {},
   "outputs": [
    {
     "data": {
      "text/plain": [
       "1.5322068676842604"
      ]
     },
     "execution_count": 89,
     "metadata": {},
     "output_type": "execute_result"
    }
   ],
   "source": [
    "result.slope"
   ]
  },
  {
   "cell_type": "code",
   "execution_count": 90,
   "id": "fdbc481d",
   "metadata": {},
   "outputs": [
    {
     "data": {
      "text/plain": [
       "<ErrorbarContainer object of 3 artists>"
      ]
     },
     "execution_count": 90,
     "metadata": {},
     "output_type": "execute_result"
    },
    {
     "data": {
      "image/png": "[encoded data removed]",
      "text/plain": [
       "<Figure size 432x288 with 1 Axes>"
      ]
     },
     "metadata": {
      "needs_background": "light"
     },
     "output_type": "display_data"
    }
   ],
   "source": [
    "plt.errorbar(x, y)"
   ]
  },
  {
   "cell_type": "code",
   "execution_count": null,
   "id": "65d4797d",
   "metadata": {},
   "outputs": [],
   "source": [
    "runB1[:, 0]"
   ]
  },
  {
   "cell_type": "code",
   "execution_count": null,
   "id": "ba35b664",
   "metadata": {},
   "outputs": [],
   "source": [
    "np.arcsin((np.sin([0.017453292519943295, 0.03490658503988659,0.05235987755982989,\n",
    "       0.06981317007977318, 0.08726646259971647, 0.10471975511965978,\n",
    "       0.12217304763960307, 0.13962634015954636, 0.15707963267948966]))/1.479)"
   ]
  },
  {
   "cell_type": "code",
   "execution_count": null,
   "id": "67a3079f",
   "metadata": {},
   "outputs": [],
   "source": [
    "y1 = (650*10**(-9)/(2*1*10**(-3))) + math.cos(0.12217304763960307 - 0.08249336)/0.08249336\n",
    "print(y1)"
   ]
  },
  {
   "cell_type": "code",
   "execution_count": null,
   "id": "df2ac89c",
   "metadata": {},
   "outputs": [],
   "source": []
  }
 ],
 "metadata": {
  "kernelspec": {
   "display_name": "Python 3 (ipykernel)",
   "language": "python",
   "name": "python3"
  },
  "language_info": {
   "codemirror_mode": {
    "name": "ipython",
    "version": 3
   },
   "file_extension": ".py",
   "mimetype": "text/x-python",
   "name": "python",
   "nbconvert_exporter": "python",
   "pygments_lexer": "ipython3",
   "version": "3.9.7"
  }
 },
 "nbformat": 4,
 "nbformat_minor": 5
}
