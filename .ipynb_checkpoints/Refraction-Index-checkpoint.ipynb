{
 "cells": [
  {
   "cell_type": "code",
   "execution_count": 8,
   "id": "1df5895d",
   "metadata": {},
   "outputs": [],
   "source": [
    "from scipy import optimize\n",
    "import math"
   ]
  },
  {
   "cell_type": "code",
   "execution_count": 12,
   "id": "44c3ef02",
   "metadata": {},
   "outputs": [],
   "source": [
    "def F(m, phi_i, d = 0.1*10**(-3), lam = 650*10**(-9)):\n",
    "    \"\"\"\"\n",
    "    This function takes as inputs the parameters from our experiment and returns another function, only in terms\n",
    "    of n, such that it can later be optimized while taking our parameteres as fixed.\n",
    "    \n",
    "    Parameters\n",
    "    -------\n",
    "    m : the number of fringes counter\n",
    "    d : thickness of the material plate\n",
    "    lam : wavelength of the light source\n",
    "    phi_i : angle through which we rotate the plate, to the normal angle of mirror\n",
    "    \n",
    "    Returns\n",
    "    -------\n",
    "    funk_to_optimize : a function containing the parameters as fixed, in terms of refractive index 'n'\n",
    "    \n",
    "    Notes\n",
    "    -------\n",
    "    \n",
    "    Examples\n",
    "    -------\n",
    "    \"\"\"\n",
    "    \n",
    "    def funk_to_optimize(n):\n",
    "        return m - (2*d)/lam * (n*(1/math.cos(math.asin(math.sin(phi_i)/n)) - 1)\n",
    "                                + 1 - (math.cos(phi_i - math.asin(math.sin(phi_i)/n))/math.cos(math.asin(math.sin(phi_i)/n))))\n",
    "    \n",
    "    return funk_to_optimize"
   ]
  }
 ],
 "metadata": {
  "kernelspec": {
   "display_name": "Python 3 (ipykernel)",
   "language": "python",
   "name": "python3"
  },
  "language_info": {
   "codemirror_mode": {
    "name": "ipython",
    "version": 3
   },
   "file_extension": ".py",
   "mimetype": "text/x-python",
   "name": "python",
   "nbconvert_exporter": "python",
   "pygments_lexer": "ipython3",
   "version": "3.9.7"
  }
 },
 "nbformat": 4,
 "nbformat_minor": 5
}
