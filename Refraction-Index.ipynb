{
 "cells": [
  {
   "cell_type": "code",
   "execution_count": 1,
   "id": "baa3a4f3",
   "metadata": {},
   "outputs": [],
   "source": [
    "#we shall like to create a function which can go through several minimization algorithms for our data,\n",
    "#the final goal being to find the refractive index of our material"
   ]
  },
  {
   "cell_type": "code",
   "execution_count": 7,
   "id": "1df5895d",
   "metadata": {},
   "outputs": [],
   "source": [
    "from scipy import optimize\n",
    "import math"
   ]
  },
  {
   "cell_type": "code",
   "execution_count": 18,
   "id": "8150b893",
   "metadata": {},
   "outputs": [],
   "source": [
    "m = 100\n",
    "d = 1.025*(10**(-3))\n",
    "lam = 546.2*(10**(-9))\n",
    "phi_i = 22.9*(math.pi/180)"
   ]
  },
  {
   "cell_type": "code",
   "execution_count": 19,
   "id": "44c3ef02",
   "metadata": {},
   "outputs": [],
   "source": [
    "def F(m, d, lam, phi_i):\n",
    "    \n",
    "    def funk_to_optimize(n):\n",
    "        return m - (2*d)/lam * (n*(1/math.cos(math.asin(math.sin(phi_i)/n)) - 1)\n",
    "                                + 1 - (math.cos(phi_i - math.asin(math.sin(phi_i)/n))/math.cos(math.asin(math.sin(phi_i)/n))))\n",
    "    \n",
    "    return funk_to_optimize"
   ]
  },
  {
   "cell_type": "code",
   "execution_count": 20,
   "id": "99072a87",
   "metadata": {},
   "outputs": [
    {
     "data": {
      "text/plain": [
       "      converged: True\n",
       "           flag: 'converged'\n",
       " function_calls: 5\n",
       "     iterations: 4\n",
       "           root: 1.47725881889781"
      ]
     },
     "execution_count": 20,
     "metadata": {},
     "output_type": "execute_result"
    }
   ],
   "source": [
    "optimize.root_scalar(F(m, d, lam, phi_i), x0 = 1.47, x1 = 1.48)"
   ]
  }
 ],
 "metadata": {
  "kernelspec": {
   "display_name": "Python 3 (ipykernel)",
   "language": "python",
   "name": "python3"
  },
  "language_info": {
   "codemirror_mode": {
    "name": "ipython",
    "version": 3
   },
   "file_extension": ".py",
   "mimetype": "text/x-python",
   "name": "python",
   "nbconvert_exporter": "python",
   "pygments_lexer": "ipython3",
   "version": "3.9.7"
  }
 },
 "nbformat": 4,
 "nbformat_minor": 5
}
