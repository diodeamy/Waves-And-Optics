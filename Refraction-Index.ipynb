{
 "cells": [
  {
   "cell_type": "code",
   "execution_count": 1,
   "id": "c09f2c33",
   "metadata": {},
   "outputs": [],
   "source": [
    "#we shall like to create a function which can go through several minimization algorithms for our data,\n",
    "#the final goal being to find the refractive index of our material"
   ]
  },
  {
   "cell_type": "code",
   "execution_count": 2,
   "id": "8ca3798a",
   "metadata": {},
   "outputs": [],
   "source": [
    "from scipy import optimize\n",
    "import "
   ]
  },
  {
   "cell_type": "code",
   "execution_count": null,
   "id": "5f54adc3",
   "metadata": {},
   "outputs": [],
   "source": [
    "m = \n",
    "d = \n",
    "lam = \n",
    "phi_i = "
   ]
  },
  {
   "cell_type": "code",
   "execution_count": 4,
   "id": "a1f112d0",
   "metadata": {},
   "outputs": [],
   "source": [
    "def F(m, d, lam, phi_i):\n",
    "    \n",
    "    def funk_to_optimize(n):\n",
    "        return m - (2*d)/lam * (n*(1/math.cos(math.asin(math.sin(phi_i)/n)) - 1)\n",
    "                                + 1 - (math.cos(phi_i - math.asin(math.sin(phi_i)/n))/math.cos(math.asin(math.sin(phi_i)/n))))"
   ]
  }
 ],
 "metadata": {
  "kernelspec": {
   "display_name": "Python 3 (ipykernel)",
   "language": "python",
   "name": "python3"
  },
  "language_info": {
   "codemirror_mode": {
    "name": "ipython",
    "version": 3
   },
   "file_extension": ".py",
   "mimetype": "text/x-python",
   "name": "python",
   "nbconvert_exporter": "python",
   "pygments_lexer": "ipython3",
   "version": "3.9.7"
  }
 },
 "nbformat": 4,
 "nbformat_minor": 5
}
