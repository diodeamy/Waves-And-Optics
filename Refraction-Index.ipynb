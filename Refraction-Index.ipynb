{
 "cells": [
  {
   "cell_type": "markdown",
   "id": "b3322d4b",
   "metadata": {},
   "source": [
    "# Function Definition"
   ]
  },
  {
   "cell_type": "code",
   "execution_count": 41,
   "id": "1df5895d",
   "metadata": {},
   "outputs": [],
   "source": [
    "from scipy import optimize\n",
    "import scipy\n",
    "import math\n",
    "import numpy as np\n",
    "import pandas as pd\n",
    "import matplotlib.pyplot as plt\n",
    "from scipy.stats import linregress\n",
    "from sympy import symbols, diff\n",
    "import sympy as sp\n",
    "from scipy.odr import ODR, Model, Data, RealData\n",
    "import matplotlib.pyplot as plt"
   ]
  },
  {
   "cell_type": "code",
   "execution_count": 2,
   "id": "44c3ef02",
   "metadata": {},
   "outputs": [],
   "source": [
    "def F(m, phi_i, d = 1*10**(-3), lam = 650*10**(-9)):\n",
    "    \"\"\"\"\n",
    "    This function takes as inputs the parameters from our experiment and returns another function, only in terms\n",
    "    of n, such that it can later be optimized while taking our parameteres as fixed.\n",
    "    \n",
    "    Parameters\n",
    "    -------\n",
    "    m : the number of fringes counter\n",
    "    d : thickness of the material plate\n",
    "    lam : wavelength of the light source\n",
    "    phi_i : angle through which we rotate the plate, to the normal angle of mirror\n",
    "    \n",
    "    Returns\n",
    "    -------\n",
    "    funk_to_optimize : a function containing the parameters as fixed, in terms of refractive index 'n'\n",
    "    \n",
    "    Notes\n",
    "    -------\n",
    "    \n",
    "    \"\"\"\n",
    "    \n",
    "    def funk_to_optimize(n):\n",
    "        \n",
    "        phi_r = math.asin(math.sin(phi_i)/n)\n",
    "        \n",
    "        return m - (2*d)/lam * (n*(1/math.cos(phi_r) - 1)\n",
    "                                + 1 - (math.cos(phi_i - phi_r)/math.cos(phi_r)))\n",
    "    \n",
    "    return funk_to_optimize"
   ]
  },
  {
   "cell_type": "code",
   "execution_count": 3,
   "id": "abecf076",
   "metadata": {},
   "outputs": [],
   "source": [
    "def refrakt(input_data, x0 = 1.4, x1 = 1.5):\n",
    "    \"\"\"\n",
    "    This one takes a list of data and returns the refractive index\n",
    "    \n",
    "    Params\n",
    "    -------\n",
    "    input_data : experimental data that contains number of fringes \n",
    "                 and angle of rotation\n",
    "    x0 = initial guess for optimization algorithm\n",
    "    x1 = second guess for optimization algorithm\n",
    "    \n",
    "    Returns\n",
    "    -------\n",
    "    output_data : list of refractive indices\n",
    "    \n",
    "    Example\n",
    "    -------\n",
    "    >>>refrakt([[20, 10.4], [40, 14.7]])\n",
    "    [4.79289677e+34, 4.28057195e+31]\n",
    "    \n",
    "    Notes\n",
    "    -------\n",
    "    We know that we are measuring glass-like material, so we expect \n",
    "    the refractive index to be somewhere between 1.4 and 1.5, hence \n",
    "    the default values for the initial two guesses\n",
    "    \n",
    "    \"\"\"\n",
    "    output_data = []\n",
    "    \n",
    "    for arr in input_data:\n",
    "        \n",
    "        m = arr[0]\n",
    "        phi_i = arr[1]\n",
    "    \n",
    "        func = F(m, phi_i)\n",
    "        n = optimize.root_scalar(func, x0 = x0, x1 = x1)\n",
    "    \n",
    "        output_data.append(n.root)\n",
    "        \n",
    "    return output_data"
   ]
  },
  {
   "cell_type": "markdown",
   "id": "0f41d879",
   "metadata": {},
   "source": [
    "# Data Import and Analysis"
   ]
  },
  {
   "cell_type": "code",
   "execution_count": 4,
   "id": "a0d08ca3",
   "metadata": {},
   "outputs": [],
   "source": [
    "def load(url):\n",
    "    run = pd.read_csv(url, dtype = \"float\").to_numpy()\n",
    "    \n",
    "    run[:,1] = np.radians(run[:,1])\n",
    "    \n",
    "    \n",
    "    return run"
   ]
  },
  {
   "cell_type": "code",
   "execution_count": 10,
   "id": "24469b39",
   "metadata": {},
   "outputs": [],
   "source": [
    "runB1_init = load(\"https://raw.githubusercontent.com/diodeamy/Waves-And-Optics/main/plots/data_BR1.csv\")\n",
    "runB2_init = load(\"https://raw.githubusercontent.com/diodeamy/Waves-And-Optics/main/plots/data_BR2.csv\")\n",
    "runB3_init = load(\"https://raw.githubusercontent.com/diodeamy/Waves-And-Optics/main/plots/data_BR3.csv\")\n",
    "runW1_init = load(\"https://raw.githubusercontent.com/diodeamy/Waves-And-Optics/main/plots/data_WR1.csv\")\n",
    "runW2_init = load(\"https://raw.githubusercontent.com/diodeamy/Waves-And-Optics/main/plots/data_WR2.csv\")"
   ]
  },
  {
   "cell_type": "code",
   "execution_count": 11,
   "id": "bdcbd797",
   "metadata": {},
   "outputs": [],
   "source": [
    "def del_points(run):\n",
    "    run_del = np.delete(run, [0, 1, 2, 3, 4], 0)\n",
    "    \n",
    "    return run_del"
   ]
  },
  {
   "cell_type": "code",
   "execution_count": 12,
   "id": "24277aee",
   "metadata": {},
   "outputs": [],
   "source": [
    "runB1 = del_points(runB1_init)\n",
    "runB2 = del_points(runB2_init)\n",
    "runB3 = del_points(runB3_init)\n",
    "runW1 = del_points(runW1_init)\n",
    "runW2 = del_points(runW2_init)"
   ]
  },
  {
   "cell_type": "code",
   "execution_count": 13,
   "id": "3aeaaac9",
   "metadata": {},
   "outputs": [
    {
     "data": {
      "text/html": [
       "<div>\n",
       "<style scoped>\n",
       "    .dataframe tbody tr th:only-of-type {\n",
       "        vertical-align: middle;\n",
       "    }\n",
       "\n",
       "    .dataframe tbody tr th {\n",
       "        vertical-align: top;\n",
       "    }\n",
       "\n",
       "    .dataframe thead th {\n",
       "        text-align: right;\n",
       "    }\n",
       "</style>\n",
       "<table border=\"1\" class=\"dataframe\">\n",
       "  <thead>\n",
       "    <tr style=\"text-align: right;\">\n",
       "      <th></th>\n",
       "      <th>0</th>\n",
       "      <th>1</th>\n",
       "    </tr>\n",
       "  </thead>\n",
       "  <tbody>\n",
       "    <tr>\n",
       "      <th>0</th>\n",
       "      <td>2.0</td>\n",
       "      <td>0.017453</td>\n",
       "    </tr>\n",
       "    <tr>\n",
       "      <th>1</th>\n",
       "      <td>3.0</td>\n",
       "      <td>0.034907</td>\n",
       "    </tr>\n",
       "    <tr>\n",
       "      <th>2</th>\n",
       "      <td>4.0</td>\n",
       "      <td>0.052360</td>\n",
       "    </tr>\n",
       "    <tr>\n",
       "      <th>3</th>\n",
       "      <td>5.0</td>\n",
       "      <td>0.069813</td>\n",
       "    </tr>\n",
       "    <tr>\n",
       "      <th>4</th>\n",
       "      <td>6.0</td>\n",
       "      <td>0.087266</td>\n",
       "    </tr>\n",
       "    <tr>\n",
       "      <th>5</th>\n",
       "      <td>8.0</td>\n",
       "      <td>0.104720</td>\n",
       "    </tr>\n",
       "    <tr>\n",
       "      <th>6</th>\n",
       "      <td>10.0</td>\n",
       "      <td>0.122173</td>\n",
       "    </tr>\n",
       "    <tr>\n",
       "      <th>7</th>\n",
       "      <td>12.0</td>\n",
       "      <td>0.139626</td>\n",
       "    </tr>\n",
       "    <tr>\n",
       "      <th>8</th>\n",
       "      <td>14.0</td>\n",
       "      <td>0.157080</td>\n",
       "    </tr>\n",
       "    <tr>\n",
       "      <th>9</th>\n",
       "      <td>17.0</td>\n",
       "      <td>0.174533</td>\n",
       "    </tr>\n",
       "    <tr>\n",
       "      <th>10</th>\n",
       "      <td>20.0</td>\n",
       "      <td>0.191986</td>\n",
       "    </tr>\n",
       "    <tr>\n",
       "      <th>11</th>\n",
       "      <td>23.0</td>\n",
       "      <td>0.209440</td>\n",
       "    </tr>\n",
       "    <tr>\n",
       "      <th>12</th>\n",
       "      <td>26.0</td>\n",
       "      <td>0.226893</td>\n",
       "    </tr>\n",
       "    <tr>\n",
       "      <th>13</th>\n",
       "      <td>31.0</td>\n",
       "      <td>0.244346</td>\n",
       "    </tr>\n",
       "    <tr>\n",
       "      <th>14</th>\n",
       "      <td>36.0</td>\n",
       "      <td>0.261799</td>\n",
       "    </tr>\n",
       "    <tr>\n",
       "      <th>15</th>\n",
       "      <td>41.0</td>\n",
       "      <td>0.279253</td>\n",
       "    </tr>\n",
       "    <tr>\n",
       "      <th>16</th>\n",
       "      <td>45.0</td>\n",
       "      <td>0.296706</td>\n",
       "    </tr>\n",
       "    <tr>\n",
       "      <th>17</th>\n",
       "      <td>50.0</td>\n",
       "      <td>0.314159</td>\n",
       "    </tr>\n",
       "    <tr>\n",
       "      <th>18</th>\n",
       "      <td>55.0</td>\n",
       "      <td>0.331613</td>\n",
       "    </tr>\n",
       "    <tr>\n",
       "      <th>19</th>\n",
       "      <td>62.0</td>\n",
       "      <td>0.349066</td>\n",
       "    </tr>\n",
       "    <tr>\n",
       "      <th>20</th>\n",
       "      <td>69.0</td>\n",
       "      <td>0.366519</td>\n",
       "    </tr>\n",
       "    <tr>\n",
       "      <th>21</th>\n",
       "      <td>75.0</td>\n",
       "      <td>0.383972</td>\n",
       "    </tr>\n",
       "    <tr>\n",
       "      <th>22</th>\n",
       "      <td>83.0</td>\n",
       "      <td>0.401426</td>\n",
       "    </tr>\n",
       "    <tr>\n",
       "      <th>23</th>\n",
       "      <td>93.0</td>\n",
       "      <td>0.418879</td>\n",
       "    </tr>\n",
       "    <tr>\n",
       "      <th>24</th>\n",
       "      <td>103.0</td>\n",
       "      <td>0.436332</td>\n",
       "    </tr>\n",
       "    <tr>\n",
       "      <th>25</th>\n",
       "      <td>114.0</td>\n",
       "      <td>0.453786</td>\n",
       "    </tr>\n",
       "    <tr>\n",
       "      <th>26</th>\n",
       "      <td>126.0</td>\n",
       "      <td>0.471239</td>\n",
       "    </tr>\n",
       "    <tr>\n",
       "      <th>27</th>\n",
       "      <td>137.0</td>\n",
       "      <td>0.488692</td>\n",
       "    </tr>\n",
       "    <tr>\n",
       "      <th>28</th>\n",
       "      <td>149.0</td>\n",
       "      <td>0.506145</td>\n",
       "    </tr>\n",
       "    <tr>\n",
       "      <th>29</th>\n",
       "      <td>162.0</td>\n",
       "      <td>0.523599</td>\n",
       "    </tr>\n",
       "  </tbody>\n",
       "</table>\n",
       "</div>"
      ],
      "text/plain": [
       "        0         1\n",
       "0     2.0  0.017453\n",
       "1     3.0  0.034907\n",
       "2     4.0  0.052360\n",
       "3     5.0  0.069813\n",
       "4     6.0  0.087266\n",
       "5     8.0  0.104720\n",
       "6    10.0  0.122173\n",
       "7    12.0  0.139626\n",
       "8    14.0  0.157080\n",
       "9    17.0  0.174533\n",
       "10   20.0  0.191986\n",
       "11   23.0  0.209440\n",
       "12   26.0  0.226893\n",
       "13   31.0  0.244346\n",
       "14   36.0  0.261799\n",
       "15   41.0  0.279253\n",
       "16   45.0  0.296706\n",
       "17   50.0  0.314159\n",
       "18   55.0  0.331613\n",
       "19   62.0  0.349066\n",
       "20   69.0  0.366519\n",
       "21   75.0  0.383972\n",
       "22   83.0  0.401426\n",
       "23   93.0  0.418879\n",
       "24  103.0  0.436332\n",
       "25  114.0  0.453786\n",
       "26  126.0  0.471239\n",
       "27  137.0  0.488692\n",
       "28  149.0  0.506145\n",
       "29  162.0  0.523599"
      ]
     },
     "execution_count": 13,
     "metadata": {},
     "output_type": "execute_result"
    }
   ],
   "source": [
    "pd.DataFrame(runB1_init)"
   ]
  },
  {
   "cell_type": "code",
   "execution_count": 14,
   "id": "c36d8d7f",
   "metadata": {},
   "outputs": [
    {
     "data": {
      "text/plain": [
       "0.003490658503988659"
      ]
     },
     "execution_count": 14,
     "metadata": {},
     "output_type": "execute_result"
    }
   ],
   "source": [
    "(0.2)*(math.pi)/180"
   ]
  },
  {
   "cell_type": "code",
   "execution_count": 15,
   "id": "3781502b",
   "metadata": {},
   "outputs": [],
   "source": [
    "#here we wish to make a function that returns the refractive indeces for each pair of angle-fringe \n",
    "#we also wish for it to compute y and x values to be plotted for the error function (this will need to take\n",
    "#the errors of angle and lalal into account)`"
   ]
  },
  {
   "cell_type": "code",
   "execution_count": 16,
   "id": "1ff4590a",
   "metadata": {},
   "outputs": [],
   "source": [
    "def matias(run):\n",
    "    \n",
    "    lam = 650*10**(-9)\n",
    "    d = 1*10**3\n",
    "    phi_i = run[:,1]\n",
    "    m = run[:,0]\n",
    "    \n",
    "    n = np.array(refrakt(run))\n",
    "    \n",
    "    phi_r = np.arcsin(np.sin(phi_i/n))\n",
    "    \n",
    "    y = (lam/2*d)*m - 1 + np.cos(phi_i - phi_r)/np.cos(phi_r)\n",
    "    \n",
    "    x = 1/np.cos(phi_r) - 1\n",
    "    \n",
    "    return (x, y)"
   ]
  },
  {
   "cell_type": "code",
   "execution_count": 17,
   "id": "69e05042",
   "metadata": {},
   "outputs": [],
   "source": [
    "x, y = matias(runB1)"
   ]
  },
  {
   "cell_type": "code",
   "execution_count": 18,
   "id": "7fd55934",
   "metadata": {},
   "outputs": [],
   "source": [
    "def slope_and_error(run):\n",
    "    \"\"\"\n",
    "    this one gives the slope and the error in the slope for a linear regression (doesn't account for errors)\n",
    "    \n",
    "    Params\n",
    "    -------\n",
    "    run: the data\n",
    "    \n",
    "    Returns\n",
    "    -------\n",
    "    \"slope\": slope given by regression\n",
    "    \"error\": standard error\n",
    "    \"\"\"\n",
    "    result = linregress(matias(run))\n",
    "    \n",
    "    return {\"slope\": result.slope, \"error\": result.stderr}"
   ]
  },
  {
   "cell_type": "markdown",
   "id": "e9667fc6",
   "metadata": {},
   "source": [
    "# The one where I create error functions"
   ]
  },
  {
   "cell_type": "code",
   "execution_count": 19,
   "id": "880a956c",
   "metadata": {},
   "outputs": [],
   "source": [
    "# 1. Pass a dictionary of the form `{name_of_run: actual_run}`, where `name_of_run` is a string\n",
    "# 2. Use `extract_key` to get `name_of_run` out of the dictionary\n",
    "# 3. Use the key obtained at 2. to extract actual_run by doing dictionary[extracted_key]"
   ]
  },
  {
   "cell_type": "code",
   "execution_count": 20,
   "id": "4240c783",
   "metadata": {},
   "outputs": [],
   "source": [
    "def extract_key(dictionary):\n",
    "    my_key = ''\n",
    "\n",
    "    for key in dictionary.keys():\n",
    "        my_key = key\n",
    "        \n",
    "    return my_key"
   ]
  },
  {
   "cell_type": "code",
   "execution_count": 21,
   "id": "949100af",
   "metadata": {},
   "outputs": [],
   "source": [
    "#we need to let the computer know that we want it to differentiate with respect to certain variables\n",
    "\n",
    "##our errors are in phi_i, m, lam, d and the n we used in the trig functions\n",
    "\n",
    "def y_partials():\n",
    "    \"\"\"\n",
    "    this one takes partial derivatives of our function for y (NOT CALLABLE)\n",
    "    \n",
    "    Params\n",
    "    -------\n",
    "    none\n",
    "    \n",
    "    Returns\n",
    "    -------\n",
    "    list of dictionaries with the symbols(the varialbes you need differentiation wrt) as keys\n",
    "    and with differentials of x wrt each variable (phi_i, lam, d, m, n) as values\n",
    "    \"\"\"\n",
    "    \n",
    "    phi_i, m, lam, d, n = symbols('phi_i m lam d n', real = True)\n",
    "\n",
    "    phi_r = sp.asin(sp.sin(phi_i/n))\n",
    "\n",
    "    y = (lam/2*d)*m - 1 + sp.cos(phi_i - phi_r)/sp.cos(phi_r)\n",
    "    \n",
    "    diff_y_phi_i = diff(y, phi_i)\n",
    "    diff_y_lam = diff(y, lam)\n",
    "    diff_y_d = diff(y, d)\n",
    "    diff_y_m = diff(y, m)\n",
    "    diff_y_n = diff(y, n)\n",
    "    \n",
    "    return [\n",
    "        {\"symbol\": phi_i, \"derivative\": diff_y_phi_i},\n",
    "        {\"symbol\": lam, \"derivative\": diff_y_lam},\n",
    "        {\"symbol\": d, \"derivative\": diff_y_d},\n",
    "        {\"symbol\": m, \"derivative\": diff_y_m},\n",
    "        {\"symbol\": n, \"derivative\": diff_y_n}\n",
    "    ]\n",
    "     "
   ]
  },
  {
   "cell_type": "code",
   "execution_count": 22,
   "id": "4cda10b1",
   "metadata": {},
   "outputs": [],
   "source": [
    "def x_partials():\n",
    "    \"\"\"\n",
    "    this one takes partial derivatives of our function for x (NOT CALLABLE)\n",
    "    \n",
    "    Params\n",
    "    -------\n",
    "    none\n",
    "    \n",
    "    Returns\n",
    "    -------\n",
    "    list of dictionaries with the symbols(the varialbes you need differentiation wrt) as keys\n",
    "    and with differentials of x wrt each variable (phi_i, n) as values\n",
    "    \n",
    "    \"\"\"\n",
    "    \n",
    "    phi_i, n = symbols('phi_i n', real = True)\n",
    "    \n",
    "    phi_r = sp.asin(sp.sin(phi_i/n))\n",
    "    x = 1/sp.cos(phi_r) - 1\n",
    "    \n",
    "    diff_x_n = diff(x, n)\n",
    "    diff_x_phi_i = diff(x, phi_i)\n",
    "    \n",
    "    return [\n",
    "        {\"symbol\": phi_i, \"derivative\": diff_x_phi_i}, \n",
    "        {\"symbol\": n, \"derivative\": diff_x_n}\n",
    "    ]"
   ]
  },
  {
   "cell_type": "code",
   "execution_count": 23,
   "id": "9dfbaf44",
   "metadata": {},
   "outputs": [],
   "source": [
    "def x_errors(run):\n",
    "    \"\"\"\n",
    "    This function finds errors for the x values(given by matias)\n",
    "    \n",
    "    Paramteres\n",
    "    -------\n",
    "    delta_phi : error in the angle, it is fixed at 0.2deg or 0.003490658503988659 radians\n",
    "    delta_n : error in the refractive index, given by the slope_and_error (uses scipy.stats.linregress)\n",
    "    run : the data\n",
    "    \n",
    "    Returns\n",
    "    -------\n",
    "    x_del : error in x\n",
    "    \"\"\"\n",
    "    \n",
    "    #gather the data from the y_partials function (symbols and derivatives separately)\n",
    "    x_partials_results = x_partials()\n",
    "    \n",
    "    phi_i = x_partials_results[0][\"symbol\"]\n",
    "    x_partial_derivative_wrt_phi_i = x_partials_results[0][\"derivative\"]\n",
    "    \n",
    "    n = x_partials_results[1][\"symbol\"]\n",
    "    x_partial_derivative_wrt_n = x_partials_results[1][\"derivative\"]\n",
    "\n",
    "    #make the derivative a callable function\n",
    "    x_partial_derivative_callable_phi_i = sp.lambdify([phi_i, n], x_partial_derivative_wrt_phi_i)\n",
    "    x_partial_derivative_callable_n = sp.lambdify([phi_i, n], x_partial_derivative_wrt_n)\n",
    "    \n",
    "    #use the points from the run for each error\n",
    "    phi_is = np.array(run[:,1])\n",
    "    ns = np.array(refrakt(run))\n",
    "    \n",
    "    #declare errors\n",
    "    delta_phi = (0.2*(math.pi)/180)\n",
    "    delta_n = slope_and_error(run)[\"error\"]\n",
    "\n",
    "    #final exression for error\n",
    "    a = (x_partial_derivative_callable_phi_i(phi_is, ns) * delta_phi)**2\n",
    "    b = (x_partial_derivative_callable_n(phi_is, ns) * delta_n)**2\n",
    "    \n",
    "    x_del = np.sqrt(a + b) # + b\n",
    "    \n",
    "    return x_del"
   ]
  },
  {
   "cell_type": "code",
   "execution_count": 24,
   "id": "750cd638",
   "metadata": {},
   "outputs": [
    {
     "data": {
      "text/plain": [
       "array([0.00010382, 0.00014164, 0.00018617, 0.000237  , 0.00027373,\n",
       "       0.00031787, 0.00036905, 0.00042725, 0.000457  , 0.00049549,\n",
       "       0.00054209, 0.00061279, 0.00067501, 0.00074534, 0.00079186,\n",
       "       0.00084725, 0.00092707, 0.00098443, 0.00102036, 0.0010661 ,\n",
       "       0.00110666, 0.00114253, 0.0012023 , 0.00125733, 0.00130792])"
      ]
     },
     "execution_count": 24,
     "metadata": {},
     "output_type": "execute_result"
    }
   ],
   "source": [
    "x_errors(runB1)"
   ]
  },
  {
   "cell_type": "code",
   "execution_count": 25,
   "id": "1b33d52c",
   "metadata": {},
   "outputs": [],
   "source": [
    "def m_err(elem):\n",
    "    \"\"\"\n",
    "    this function gives the fringing error depending on the amount of fringes seen\n",
    "    \"\"\"\n",
    "    if elem <= 50:\n",
    "        delta_m = 1\n",
    "    elif 50 < elem <= 100:\n",
    "        delta_m = 2\n",
    "    elif elem > 100:\n",
    "        delta_m = 3\n",
    "    \n",
    "    return delta_m"
   ]
  },
  {
   "cell_type": "code",
   "execution_count": 26,
   "id": "393f1195",
   "metadata": {},
   "outputs": [],
   "source": [
    "def y_errors(run):\n",
    "    \"\"\"\n",
    "    this function give the errors in y for the y values (given by matias)\n",
    "    \n",
    "    \"\"\"\n",
    "    \n",
    "    #gather the data from the y_partials function (symbols and derivatives separately)\n",
    "    y_partials_result = y_partials()\n",
    "    \n",
    "    phi_i = y_partials_result[0][\"symbol\"]\n",
    "    y_partial_derivative_wrt_phi_i = y_partials_result[0][\"derivative\"]\n",
    "    \n",
    "    lam = y_partials_result[1][\"symbol\"]\n",
    "    y_partial_derivative_wrt_lam = y_partials_result[1][\"derivative\"]\n",
    "    \n",
    "    d = y_partials_result[2][\"symbol\"]\n",
    "    y_partial_derivative_wrt_d = y_partials_result[2][\"derivative\"]\n",
    "    \n",
    "    m = y_partials_result[3][\"symbol\"]\n",
    "    y_partial_derivative_wrt_m = y_partials_result[3][\"derivative\"]\n",
    "    \n",
    "    n = y_partials_result[4][\"symbol\"]\n",
    "    y_partial_derivative_wrt_n = y_partials_result[4][\"derivative\"]\n",
    "    \n",
    "    #make the derivative a callable function\n",
    "    y_partial_derivative_callable_phi_i = sp.lambdify([phi_i, lam, d, m, n], y_partial_derivative_wrt_phi_i)\n",
    "    y_partial_derivative_callable_lam = sp.lambdify([phi_i, lam, d, m, n], y_partial_derivative_wrt_lam)\n",
    "    y_partial_derivative_callable_d = sp.lambdify([phi_i, lam, d, m, n], y_partial_derivative_wrt_d)\n",
    "    y_partial_derivative_callable_m = sp.lambdify([phi_i, lam, d, m, n], y_partial_derivative_wrt_m)\n",
    "    y_partial_derivative_callable_n = sp.lambdify([phi_i, lam, d, m, n], y_partial_derivative_wrt_n)\n",
    "    \n",
    "    #use the points from the run for each error\n",
    "    phi_i = np.array(run[:,1])\n",
    "    ms = np.array(run[:,0])\n",
    "    ns = np.array(refrakt(run))\n",
    "    \n",
    "    #declare fixed values\n",
    "    d = 1 * 10**(-3)\n",
    "    lam = 650* 10**(-9)\n",
    "    \n",
    "    #vectorizes the m_error function\n",
    "    m_err_vect = np.vectorize(m_err)\n",
    "    \n",
    "    #declare errors\n",
    "    delta_phi_i = (0.2*(math.pi)/180)\n",
    "    delta_lam = 1*10**(-9)\n",
    "    delta_d = 0.1*10**(-3)\n",
    "    delta_n = slope_and_error(run)[\"error\"]\n",
    "    delta_m = m_err_vect(ms)\n",
    "    \n",
    "    \n",
    "    #final expression for error\n",
    "    a = (y_partial_derivative_callable_phi_i(phi_i, lam, d, ms, ns) * delta_phi_i)**2\n",
    "    b = (y_partial_derivative_callable_lam(phi_i, lam, d, ms, ns)* delta_lam)**2\n",
    "    c = (y_partial_derivative_callable_d(phi_i, lam, d, ms, ns)* delta_d)**2\n",
    "    d = (y_partial_derivative_callable_m(phi_i, lam, d, ms, ns)* delta_m)**2\n",
    "    e = (y_partial_derivative_callable_n(phi_i, lam, d, ms, ns)* delta_n)**2\n",
    "    \n",
    "    y_del = np.sqrt(a + d +b + c + e) # +b + c + e\n",
    "    \n",
    "    return y_del"
   ]
  },
  {
   "cell_type": "code",
   "execution_count": 27,
   "id": "c18f249b",
   "metadata": {},
   "outputs": [
    {
     "data": {
      "text/plain": [
       "array([4.52170609e-05, 8.52124676e-05, 1.37267238e-04, 1.98340959e-04,\n",
       "       2.40201534e-04, 2.92815154e-04, 3.55170979e-04, 4.26756685e-04,\n",
       "       4.63821545e-04, 5.13050683e-04, 5.73396053e-04, 6.63559142e-04,\n",
       "       7.44238214e-04, 8.35178135e-04, 8.99725376e-04, 9.75667587e-04,\n",
       "       1.08042608e-03, 1.16087881e-03, 1.21841896e-03, 1.28816875e-03,\n",
       "       1.35320110e-03, 1.41395928e-03, 1.50289469e-03, 1.58747934e-03,\n",
       "       1.66800795e-03])"
      ]
     },
     "execution_count": 27,
     "metadata": {},
     "output_type": "execute_result"
    }
   ],
   "source": [
    "y_errors(runB1)"
   ]
  },
  {
   "cell_type": "markdown",
   "id": "7aed6429",
   "metadata": {},
   "source": [
    "# The moment we've been working for, visualization and final error"
   ]
  },
  {
   "cell_type": "code",
   "execution_count": 57,
   "id": "c6027ad4",
   "metadata": {},
   "outputs": [],
   "source": [
    "def fit(dict_run, model=\"linear\", n=1, supress_plot=False, supress_output=False,\n",
    "        title=\"Plot with fit\", xlabel=\"x-axis\", ylabel=\"y-axis\"):\n",
    "    '''\n",
    "    Fits a model to datapoints and corresponding errors, saving a plot of the data and fit.\n",
    "    Returns best fit parameters popt and corresponding covariance matrix pcov\n",
    "    INPUTS\n",
    "    -args\n",
    "        data:   n-by-4 array xdata, ydata, xerror, yerror\n",
    "    -kwargs\n",
    "        model:  string, model to fit on data, possible values are\n",
    "            {\"linear\", \"polynomial\", \"exponential\"}\n",
    "        n:      if model==\"polynomial\", degree of model polynomial\n",
    "        supress_plot:   bool, if True does not plot data and fit\n",
    "        supress_output: bool, if True does not return poopt and pcov\n",
    "    OUTPUTS\n",
    "        param:  optimal fit parameters\n",
    "        error:  error on optimal fit parameters\n",
    "    '''\n",
    "    \n",
    "    name_of_run = extract_key(dict_run)\n",
    "    run = dict_run[name_of_run]\n",
    "    \n",
    "    \n",
    "    x, y = matias(run)\n",
    "    y_err = y_errors(run)\n",
    "    x_err = x_errors(run)\n",
    "    \n",
    "    #set up data to fit using odr\n",
    "    odrData = RealData(x, y, x_err,y_err)#add , x_err to revert changes\n",
    "    \n",
    "    #set up linear model through the origin\n",
    "    func = lambda param,x: param*x\n",
    "    model = Model(func)\n",
    "    par_guess = np.ones(1)\n",
    "    \n",
    "    #set up ODR method\n",
    "    odr = ODR(odrData, model, par_guess)\n",
    "    odr.set_job(fit_type=0)#type 2(least squares), type 0 (ODR)\n",
    "\n",
    "    #compute fit parameters and their errors\n",
    "    output = odr.run()\n",
    "    param, error = output.beta, output.sd_beta\n",
    "\n",
    "    fit = lambda x: func(param,x)\n",
    "\n",
    "    #plot data, errorbars on data and fit on data\n",
    "    if not supress_plot:\n",
    "        plt.figure(figsize=(15,9))\n",
    "        plt.grid(True)\n",
    "        plt.rcParams.update({'font.size': 17})\n",
    "        plt.xlabel(\"x\")\n",
    "        plt.ylabel(\"y\")\n",
    "        plt.title(\"Data-points with Linear Fit {}\".format(name_of_run) )\n",
    "\n",
    "        plt.errorbar(x, y , y_err, x_err ,fmt=\"or\",label=\"data with errorbars\")\n",
    "        x = np.linspace(0,0.06,1000)\n",
    "        plt.plot(x,fit(x),color=\"b\",label=\"linear fit on data\")\n",
    "\n",
    "        plt.legend()\n",
    "\n",
    "        plt.savefig(\"plot{}.png\".format(name_of_run.replace(\" \",\"_\")))\n",
    "        \n",
    "        plt.show()\n",
    "        \n",
    "\n",
    "    if not supress_output:\n",
    "        return param, error"
   ]
  },
  {
   "cell_type": "code",
   "execution_count": 58,
   "id": "e48535da",
   "metadata": {},
   "outputs": [
    {
     "data": {
      "image/png": "[encoded data removed]",
      "text/plain": [
       "<Figure size 1080x648 with 1 Axes>"
      ]
     },
     "metadata": {
      "needs_background": "light"
     },
     "output_type": "display_data"
    },
    {
     "data": {
      "text/plain": [
       "(array([1.52662076]), array([0.01290675]))"
      ]
     },
     "execution_count": 58,
     "metadata": {},
     "output_type": "execute_result"
    }
   ],
   "source": [
    "fit({\"Blue Plate Run 1\": runB1})"
   ]
  },
  {
   "cell_type": "code",
   "execution_count": 59,
   "id": "a3340bb3",
   "metadata": {},
   "outputs": [
    {
     "data": {
      "image/png": "[encoded data removed]",
      "text/plain": [
       "<Figure size 1080x648 with 1 Axes>"
      ]
     },
     "metadata": {
      "needs_background": "light"
     },
     "output_type": "display_data"
    },
    {
     "data": {
      "text/plain": [
       "(array([1.57833183]), array([0.00689394]))"
      ]
     },
     "execution_count": 59,
     "metadata": {},
     "output_type": "execute_result"
    }
   ],
   "source": [
    "fit({\"Blue Plate Run 2\": runB2})"
   ]
  },
  {
   "cell_type": "code",
   "execution_count": 60,
   "id": "c83c6f35",
   "metadata": {},
   "outputs": [
    {
     "data": {
      "image/png": "[encoded data removed]",
      "text/plain": [
       "<Figure size 1080x648 with 1 Axes>"
      ]
     },
     "metadata": {
      "needs_background": "light"
     },
     "output_type": "display_data"
    },
    {
     "data": {
      "text/plain": [
       "(array([1.5389983]), array([0.01042775]))"
      ]
     },
     "execution_count": 60,
     "metadata": {},
     "output_type": "execute_result"
    }
   ],
   "source": [
    "fit({\"Blue Plate Run 3\": runB3})"
   ]
  },
  {
   "cell_type": "code",
   "execution_count": 61,
   "id": "9b58592d",
   "metadata": {},
   "outputs": [
    {
     "data": {
      "image/png": "[encoded data removed]",
      "text/plain": [
       "<Figure size 1080x648 with 1 Axes>"
      ]
     },
     "metadata": {
      "needs_background": "light"
     },
     "output_type": "display_data"
    },
    {
     "data": {
      "text/plain": [
       "(array([1.54018504]), array([0.0112809]))"
      ]
     },
     "execution_count": 61,
     "metadata": {},
     "output_type": "execute_result"
    }
   ],
   "source": [
    "fit({\"Plate Run 1\": runW1})"
   ]
  },
  {
   "cell_type": "code",
   "execution_count": 62,
   "id": "ae93dd40",
   "metadata": {},
   "outputs": [
    {
     "data": {
      "image/png": "[encoded data removed]",
      "text/plain": [
       "<Figure size 1080x648 with 1 Axes>"
      ]
     },
     "metadata": {
      "needs_background": "light"
     },
     "output_type": "display_data"
    },
    {
     "data": {
      "text/plain": [
       "(array([1.52969245]), array([0.01243198]))"
      ]
     },
     "execution_count": 62,
     "metadata": {},
     "output_type": "execute_result"
    }
   ],
   "source": [
    "fit({\"Plate Run 2\": runW2})"
   ]
  },
  {
   "cell_type": "code",
   "execution_count": 34,
   "id": "672323c5",
   "metadata": {},
   "outputs": [
    {
     "data": {
      "text/plain": [
       "1.5349387449999998"
      ]
     },
     "execution_count": 34,
     "metadata": {},
     "output_type": "execute_result"
    }
   ],
   "source": [
    "np.average([1.54018504, 1.52969245])"
   ]
  },
  {
   "cell_type": "code",
   "execution_count": 35,
   "id": "7546ce4d",
   "metadata": {},
   "outputs": [
    {
     "data": {
      "text/plain": [
       "1.54798363"
      ]
     },
     "execution_count": 35,
     "metadata": {},
     "output_type": "execute_result"
    }
   ],
   "source": [
    "np.average([1.52662076, 1.57833183,1.5389983])"
   ]
  },
  {
   "cell_type": "code",
   "execution_count": 36,
   "id": "20478f6b",
   "metadata": {},
   "outputs": [
    {
     "data": {
      "text/plain": [
       "-0.005246295000009837"
      ]
     },
     "execution_count": 36,
     "metadata": {},
     "output_type": "execute_result"
    }
   ],
   "source": [
    "1.53493874499999 - 1.54018504"
   ]
  },
  {
   "cell_type": "markdown",
   "id": "154500fa",
   "metadata": {},
   "source": [
    "# The grand finalé"
   ]
  },
  {
   "cell_type": "code",
   "execution_count": 37,
   "id": "04bb31a8",
   "metadata": {},
   "outputs": [],
   "source": [
    "n_mB = 1.54798363\n",
    "n_mW = 1.5349387449999998"
   ]
  },
  {
   "cell_type": "code",
   "execution_count": 47,
   "id": "bd9fb64e",
   "metadata": {},
   "outputs": [],
   "source": [
    "c_mB = scipy.constants.speed_of_light / n_mB\n",
    "c_mW = scipy.constants.speed_of_light / n_mW"
   ]
  },
  {
   "cell_type": "code",
   "execution_count": 53,
   "id": "b2cf0b9b",
   "metadata": {},
   "outputs": [
    {
     "name": "stdout",
     "output_type": "stream",
     "text": [
      "193666426.56292173\n",
      "195312326.9424019\n"
     ]
    }
   ],
   "source": [
    "print(c_mB)\n",
    "print(c_mW)"
   ]
  },
  {
   "cell_type": "code",
   "execution_count": 54,
   "id": "c47ae085",
   "metadata": {},
   "outputs": [],
   "source": [
    "err_c_mB = ((scipy.constants.speed_of_light / n_mB) * 0.03)\n",
    "err_c_mW = ((scipy.constants.speed_of_light / n_mW) * 0.01)"
   ]
  },
  {
   "cell_type": "code",
   "execution_count": 55,
   "id": "820fa58d",
   "metadata": {},
   "outputs": [
    {
     "name": "stdout",
     "output_type": "stream",
     "text": [
      "5809992.796887652\n",
      "1953123.269424019\n"
     ]
    }
   ],
   "source": [
    "print(err_c_mB)\n",
    "print(err_c_mW)"
   ]
  },
  {
   "cell_type": "code",
   "execution_count": null,
   "id": "0d032ec8",
   "metadata": {},
   "outputs": [],
   "source": []
  }
 ],
 "metadata": {
  "kernelspec": {
   "display_name": "Python 3 (ipykernel)",
   "language": "python",
   "name": "python3"
  },
  "language_info": {
   "codemirror_mode": {
    "name": "ipython",
    "version": 3
   },
   "file_extension": ".py",
   "mimetype": "text/x-python",
   "name": "python",
   "nbconvert_exporter": "python",
   "pygments_lexer": "ipython3",
   "version": "3.9.7"
  }
 },
 "nbformat": 4,
 "nbformat_minor": 5
}
