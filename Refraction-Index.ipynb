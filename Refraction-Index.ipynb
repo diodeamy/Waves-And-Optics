{
 "cells": [
  {
   "cell_type": "code",
   "execution_count": 1,
   "id": "2e2df32b",
   "metadata": {},
   "outputs": [],
   "source": [
    "#we shall like to create a function which can go through several minimization algorithms for our data,\n",
    "#the final goal being to find the refractive index of our material"
   ]
  },
  {
   "cell_type": "code",
   "execution_count": 2,
   "id": "3b41b639",
   "metadata": {},
   "outputs": [],
   "source": [
    "from scipy import optimize\n",
    "import "
   ]
  },
  {
   "cell_type": "code",
   "execution_count": null,
   "id": "515f705c",
   "metadata": {},
   "outputs": [],
   "source": [
    "m = 20\n",
    "d = 1.025*(10**(-3))\n",
    "lam = 546.2*(10**(-9))\n",
    "phi_i = 10.4"
   ]
  },
  {
   "cell_type": "code",
   "execution_count": 4,
   "id": "124b5edc",
   "metadata": {},
   "outputs": [],
   "source": [
    "def F(m, d, lam, phi_i):\n",
    "    \n",
    "    def funk_to_optimize(n):\n",
    "        return m - (2*d)/lam * (n*(1/math.cos(math.asin(math.sin(phi_i)/n)) - 1)\n",
    "                                + 1 - (math.cos(phi_i - math.asin(math.sin(phi_i)/n))/math.cos(math.asin(math.sin(phi_i)/n))))"
   ]
  },
  {
   "cell_type": "code",
   "execution_count": null,
   "id": "318a72cf",
   "metadata": {},
   "outputs": [],
   "source": []
  }
 ],
 "metadata": {
  "kernelspec": {
   "display_name": "Python 3 (ipykernel)",
   "language": "python",
   "name": "python3"
  },
  "language_info": {
   "codemirror_mode": {
    "name": "ipython",
    "version": 3
   },
   "file_extension": ".py",
   "mimetype": "text/x-python",
   "name": "python",
   "nbconvert_exporter": "python",
   "pygments_lexer": "ipython3",
   "version": "3.9.7"
  }
 },
 "nbformat": 4,
 "nbformat_minor": 5
}
