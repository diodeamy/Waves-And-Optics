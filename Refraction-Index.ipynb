{
 "cells": [
  {
   "cell_type": "markdown",
   "id": "b3322d4b",
   "metadata": {},
   "source": [
    "# Function Definition"
   ]
  },
  {
   "cell_type": "code",
   "execution_count": 1,
   "id": "1df5895d",
   "metadata": {},
   "outputs": [],
   "source": [
    "from scipy import optimize\n",
    "import math\n",
    "import numpy as np\n",
    "import pandas as pd\n",
    "import matplotlib.pyplot as plt\n",
    "from scipy.stats import linregress\n",
    "from sympy import symbols, diff\n",
    "import sympy as sp\n",
    "from scipy.odr import ODR, Model, Data, RealData\n",
    "import matplotlib.pyplot as plt"
   ]
  },
  {
   "cell_type": "code",
   "execution_count": 2,
   "id": "44c3ef02",
   "metadata": {},
   "outputs": [],
   "source": [
    "def F(m, phi_i, d = 1*10**(-3), lam = 650*10**(-9)):\n",
    "    \"\"\"\"\n",
    "    This function takes as inputs the parameters from our experiment and returns another function, only in terms\n",
    "    of n, such that it can later be optimized while taking our parameteres as fixed.\n",
    "    \n",
    "    Parameters\n",
    "    -------\n",
    "    m : the number of fringes counter\n",
    "    d : thickness of the material plate\n",
    "    lam : wavelength of the light source\n",
    "    phi_i : angle through which we rotate the plate, to the normal angle of mirror\n",
    "    \n",
    "    Returns\n",
    "    -------\n",
    "    funk_to_optimize : a function containing the parameters as fixed, in terms of refractive index 'n'\n",
    "    \n",
    "    Notes\n",
    "    -------\n",
    "    \n",
    "    \"\"\"\n",
    "    \n",
    "    def funk_to_optimize(n):\n",
    "        \n",
    "        phi_r = math.asin(math.sin(phi_i)/n)\n",
    "        \n",
    "        return m - (2*d)/lam * (n*(1/math.cos(phi_r) - 1)\n",
    "                                + 1 - (math.cos(phi_i - phi_r)/math.cos(phi_r)))\n",
    "    \n",
    "    return funk_to_optimize"
   ]
  },
  {
   "cell_type": "code",
   "execution_count": 3,
   "id": "abecf076",
   "metadata": {},
   "outputs": [],
   "source": [
    "def refrakt(input_data, x0 = 1.4, x1 = 1.5):\n",
    "    \"\"\"\n",
    "    This one takes a list of data and returns the refractive index\n",
    "    \n",
    "    Params\n",
    "    -------\n",
    "    input_data : experimental data that contains number of fringes \n",
    "                 and angle of rotation\n",
    "    x0 = initial guess for optimization algorithm\n",
    "    x1 = second guess for optimization algorithm\n",
    "    \n",
    "    Returns\n",
    "    -------\n",
    "    output_data : list of refractive indices\n",
    "    \n",
    "    Example\n",
    "    -------\n",
    "    >>>refrakt([[20, 10.4], [40, 14.7]])\n",
    "    [4.79289677e+34, 4.28057195e+31]\n",
    "    \n",
    "    Notes\n",
    "    -------\n",
    "    We know that we are measuring glass-like material, so we expect \n",
    "    the refractive index to be somewhere between 1.4 and 1.5, hence \n",
    "    the default values for the initial two guesses\n",
    "    \n",
    "    \"\"\"\n",
    "    output_data = []\n",
    "    \n",
    "    for arr in input_data:\n",
    "        \n",
    "        m = arr[0]\n",
    "        phi_i = arr[1]\n",
    "    \n",
    "        func = F(m, phi_i)\n",
    "        n = optimize.root_scalar(func, x0 = x0, x1 = x1)\n",
    "    \n",
    "        output_data.append(n.root)\n",
    "        \n",
    "    return output_data"
   ]
  },
  {
   "cell_type": "markdown",
   "id": "0f41d879",
   "metadata": {},
   "source": [
    "# Data Import and Analysis"
   ]
  },
  {
   "cell_type": "code",
   "execution_count": 4,
   "id": "a0d08ca3",
   "metadata": {},
   "outputs": [],
   "source": [
    "def load(url):\n",
    "    run = pd.read_csv(url, dtype = \"float\").to_numpy()\n",
    "    \n",
    "    run[:,1] = np.radians(run[:,1])\n",
    "    \n",
    "    \n",
    "    return run"
   ]
  },
  {
   "cell_type": "code",
   "execution_count": 95,
   "id": "24469b39",
   "metadata": {},
   "outputs": [],
   "source": [
    "runB1 = load(\"https://raw.githubusercontent.com/diodeamy/Waves-And-Optics/main/data/data_BR1.csv\")\n",
    "runB2 = load(\"https://raw.githubusercontent.com/diodeamy/Waves-And-Optics/main/data/data_BR2.csv\")\n",
    "runB3 = load(\"https://raw.githubusercontent.com/diodeamy/Waves-And-Optics/main/data/data_BR3.csv\")\n",
    "runW1 = load(\"https://raw.githubusercontent.com/diodeamy/Waves-And-Optics/main/data/data_WR1.csv\")\n",
    "runW2 = load(\"https://raw.githubusercontent.com/diodeamy/Waves-And-Optics/main/data/data_WR2.csv\")"
   ]
  },
  {
   "cell_type": "code",
   "execution_count": 89,
   "id": "cc0569cc",
   "metadata": {},
   "outputs": [],
   "source": [
    "def del_points(run):\n",
    "    run_del = np.delete(run, [0, 1, 2, 3, 4], 0)\n",
    "    \n",
    "    return run_del"
   ]
  },
  {
   "cell_type": "code",
   "execution_count": 96,
   "id": "930a507e",
   "metadata": {},
   "outputs": [],
   "source": [
    "runB1 = del_points(runB1)\n",
    "runB2 = del_points(runB2)\n",
    "runB3 = del_points(runB3)\n",
    "runW1 = del_points(runW1)\n",
    "runW2 = del_points(runW2)"
   ]
  },
  {
   "cell_type": "code",
   "execution_count": 97,
   "id": "fb0da697",
   "metadata": {},
   "outputs": [
    {
     "data": {
      "text/plain": [
       "array([[8.00000000e+00, 1.04719755e-01],\n",
       "       [1.00000000e+01, 1.22173048e-01],\n",
       "       [1.20000000e+01, 1.39626340e-01],\n",
       "       [1.40000000e+01, 1.57079633e-01],\n",
       "       [1.70000000e+01, 1.74532925e-01],\n",
       "       [2.00000000e+01, 1.91986218e-01],\n",
       "       [2.30000000e+01, 2.09439510e-01],\n",
       "       [2.60000000e+01, 2.26892803e-01],\n",
       "       [3.10000000e+01, 2.44346095e-01],\n",
       "       [3.60000000e+01, 2.61799388e-01],\n",
       "       [4.10000000e+01, 2.79252680e-01],\n",
       "       [4.50000000e+01, 2.96705973e-01],\n",
       "       [5.00000000e+01, 3.14159265e-01],\n",
       "       [5.50000000e+01, 3.31612558e-01],\n",
       "       [6.20000000e+01, 3.49065850e-01],\n",
       "       [6.90000000e+01, 3.66519143e-01],\n",
       "       [7.50000000e+01, 3.83972435e-01],\n",
       "       [8.30000000e+01, 4.01425728e-01],\n",
       "       [9.30000000e+01, 4.18879020e-01],\n",
       "       [1.03000000e+02, 4.36332313e-01],\n",
       "       [1.14000000e+02, 4.53785606e-01],\n",
       "       [1.26000000e+02, 4.71238898e-01],\n",
       "       [1.37000000e+02, 4.88692191e-01],\n",
       "       [1.49000000e+02, 5.06145483e-01],\n",
       "       [1.62000000e+02, 5.23598776e-01]])"
      ]
     },
     "execution_count": 97,
     "metadata": {},
     "output_type": "execute_result"
    }
   ],
   "source": [
    "runB1"
   ]
  },
  {
   "cell_type": "code",
   "execution_count": 6,
   "id": "3781502b",
   "metadata": {},
   "outputs": [],
   "source": [
    "#here we wish to make a function that returns the refractive indeces for each pair of angle-fringe \n",
    "#we also wish for it to compute y and x values to be plotted for the error function (this will need to take\n",
    "#the errors of angle and lalal into account)"
   ]
  },
  {
   "cell_type": "code",
   "execution_count": 75,
   "id": "1ff4590a",
   "metadata": {},
   "outputs": [],
   "source": [
    "def matias(run):\n",
    "    \n",
    "    lam = 650*10**(-9)\n",
    "    d = 1*10**3\n",
    "    phi_i = run[:,1]\n",
    "    m = run[:,0]\n",
    "    \n",
    "    n = np.array(refrakt(run))\n",
    "    \n",
    "    phi_r = np.arcsin(np.sin(phi_i/n))\n",
    "    \n",
    "    y = (lam/2*d)*m - 1 + np.cos(phi_i - phi_r)/np.cos(phi_r)\n",
    "    \n",
    "    x = 1/np.cos(phi_r) - 1\n",
    "    \n",
    "    return (x, y)"
   ]
  },
  {
   "cell_type": "code",
   "execution_count": 76,
   "id": "69e05042",
   "metadata": {},
   "outputs": [
    {
     "name": "stderr",
     "output_type": "stream",
     "text": [
      "/Users/ruxi/opt/anaconda3/lib/python3.9/site-packages/scipy/optimize/zeros.py:341: RuntimeWarning: Tolerance of 7.590522150624823e+24 reached.\n",
      "  warnings.warn(msg, RuntimeWarning)\n"
     ]
    }
   ],
   "source": [
    "x, y = matias(runB1)"
   ]
  },
  {
   "cell_type": "code",
   "execution_count": 77,
   "id": "7fd55934",
   "metadata": {},
   "outputs": [],
   "source": [
    "def slope_and_error(run):\n",
    "    \"\"\"\n",
    "    this one gives the slope and the error in the slope for a linear regression (doesn't account for errors)\n",
    "    \n",
    "    Params\n",
    "    -------\n",
    "    run: the data\n",
    "    \n",
    "    Returns\n",
    "    -------\n",
    "    \"slope\": slope given by regression\n",
    "    \"error\": standard error\n",
    "    \"\"\"\n",
    "    result = linregress(matias(run))\n",
    "    \n",
    "    return {\"slope\": result.slope, \"error\": result.stderr}"
   ]
  },
  {
   "cell_type": "markdown",
   "id": "e9667fc6",
   "metadata": {},
   "source": [
    "# The one where I create error functions"
   ]
  },
  {
   "cell_type": "code",
   "execution_count": 78,
   "id": "949100af",
   "metadata": {},
   "outputs": [],
   "source": [
    "#we need to let the computer know that we want it to differentiate with respect to certain variables\n",
    "\n",
    "##our errors are in phi_i, m, lam, d and the n we used in the trig functions\n",
    "\n",
    "def y_partials():\n",
    "    \"\"\"\n",
    "    this one takes partial derivatives of our function for y (NOT CALLABLE)\n",
    "    \n",
    "    Params\n",
    "    -------\n",
    "    none\n",
    "    \n",
    "    Returns\n",
    "    -------\n",
    "    list of dictionaries with the symbols(the varialbes you need differentiation wrt) as keys\n",
    "    and with differentials of x wrt each variable (phi_i, lam, d, m, n) as values\n",
    "    \"\"\"\n",
    "    \n",
    "    phi_i, m, lam, d, n = symbols('phi_i m lam d n', real = True)\n",
    "\n",
    "    phi_r = sp.asin(sp.sin(phi_i/n))\n",
    "\n",
    "    y = (lam/2*d)*m - 1 + sp.cos(phi_i - phi_r)/sp.cos(phi_r)\n",
    "    \n",
    "    diff_y_phi_i = diff(y, phi_i)\n",
    "    diff_y_lam = diff(y, lam)\n",
    "    diff_y_d = diff(y, d)\n",
    "    diff_y_m = diff(y, m)\n",
    "    diff_y_n = diff(y, n)\n",
    "    \n",
    "    return [\n",
    "        {\"symbol\": phi_i, \"derivative\": diff_y_phi_i},\n",
    "        {\"symbol\": lam, \"derivative\": diff_y_lam},\n",
    "        {\"symbol\": d, \"derivative\": diff_y_d},\n",
    "        {\"symbol\": m, \"derivative\": diff_y_m},\n",
    "        {\"symbol\": n, \"derivative\": diff_y_n}\n",
    "    ]\n",
    "     "
   ]
  },
  {
   "cell_type": "code",
   "execution_count": 79,
   "id": "4cda10b1",
   "metadata": {},
   "outputs": [],
   "source": [
    "def x_partials():\n",
    "    \"\"\"\n",
    "    this one takes partial derivatives of our function for x (NOT CALLABLE)\n",
    "    \n",
    "    Params\n",
    "    -------\n",
    "    none\n",
    "    \n",
    "    Returns\n",
    "    -------\n",
    "    list of dictionaries with the symbols(the varialbes you need differentiation wrt) as keys\n",
    "    and with differentials of x wrt each variable (phi_i, n) as values\n",
    "    \n",
    "    \"\"\"\n",
    "    \n",
    "    phi_i, n = symbols('phi_i n', real = True)\n",
    "    \n",
    "    phi_r = sp.asin(sp.sin(phi_i/n))\n",
    "    x = 1/sp.cos(phi_r) - 1\n",
    "    \n",
    "    diff_x_n = diff(x, n)\n",
    "    diff_x_phi_i = diff(x, phi_i)\n",
    "    \n",
    "    return [\n",
    "        {\"symbol\": phi_i, \"derivative\": diff_x_phi_i}, \n",
    "        {\"symbol\": n, \"derivative\": diff_x_n}\n",
    "    ]"
   ]
  },
  {
   "cell_type": "code",
   "execution_count": 80,
   "id": "9dfbaf44",
   "metadata": {},
   "outputs": [],
   "source": [
    "def x_errors(run):\n",
    "    \"\"\"\n",
    "    This function finds errors for the x values(given by matias)\n",
    "    \n",
    "    Paramteres\n",
    "    -------\n",
    "    delta_phi : error in the angle, it is fixed at 0.2deg or 0.003490658503988659 radians\n",
    "    delta_n : error in the refractive index, given by the slope_and_error (uses scipy.stats.linregress)\n",
    "    run : the data\n",
    "    \n",
    "    Returns\n",
    "    -------\n",
    "    x_del : error in x\n",
    "    \"\"\"\n",
    "    \n",
    "    #gather the data from the y_partials function (symbols and derivatives separately)\n",
    "    x_partials_results = x_partials()\n",
    "    \n",
    "    phi_i = x_partials_results[0][\"symbol\"]\n",
    "    x_partial_derivative_wrt_phi_i = x_partials_results[0][\"derivative\"]\n",
    "    \n",
    "    n = x_partials_results[1][\"symbol\"]\n",
    "    x_partial_derivative_wrt_n = x_partials_results[1][\"derivative\"]\n",
    "\n",
    "    #make the derivative a callable function\n",
    "    x_partial_derivative_callable_phi_i = sp.lambdify([phi_i, n], x_partial_derivative_wrt_phi_i)\n",
    "    x_partial_derivative_callable_n = sp.lambdify([phi_i, n], x_partial_derivative_wrt_n)\n",
    "    \n",
    "    #use the points from the run for each error\n",
    "    phi_is = np.array(run[:,1])\n",
    "    ns = np.array(refrakt(run))\n",
    "    \n",
    "    #declare errors\n",
    "    delta_phi = (0.2*(math.pi)/180)\n",
    "    delta_n = slope_and_error(run)[\"slope\"]\n",
    "\n",
    "    #final exression for error\n",
    "    a = (x_partial_derivative_callable_phi_i(phi_is, ns) * delta_phi)**2\n",
    "    b = (x_partial_derivative_callable_n(phi_is, ns) * delta_n)**2\n",
    "    \n",
    "    x_del = np.sqrt(a + b)\n",
    "    \n",
    "    return x_del"
   ]
  },
  {
   "cell_type": "code",
   "execution_count": 81,
   "id": "750cd638",
   "metadata": {},
   "outputs": [
    {
     "data": {
      "text/plain": [
       "array([4.22962065e-54, 4.39151051e-02, 5.02675167e-02, 5.75294570e-02,\n",
       "       6.26444249e-02, 6.86771371e-02, 7.71944173e-02, 8.35757809e-02,\n",
       "       8.78378387e-02, 9.31057034e-02, 9.78625306e-02, 1.02143956e-01,\n",
       "       1.08910061e-01, 1.15211113e-01, 1.21066035e-01])"
      ]
     },
     "execution_count": 81,
     "metadata": {},
     "output_type": "execute_result"
    }
   ],
   "source": [
    "x_errors(runB1)"
   ]
  },
  {
   "cell_type": "code",
   "execution_count": 82,
   "id": "393f1195",
   "metadata": {},
   "outputs": [],
   "source": [
    "def y_errors(run):\n",
    "    \"\"\"\n",
    "    this function give the errors in y for the y values (given by matias)\n",
    "    \n",
    "    \"\"\"\n",
    "    \n",
    "    #gather the data from the y_partials function (symbols and derivatives separately)\n",
    "    y_partials_result = y_partials()\n",
    "    \n",
    "    phi_i = y_partials_result[0][\"symbol\"]\n",
    "    y_partial_derivative_wrt_phi_i = y_partials_result[0][\"derivative\"]\n",
    "    \n",
    "    lam = y_partials_result[1][\"symbol\"]\n",
    "    y_partial_derivative_wrt_lam = y_partials_result[1][\"derivative\"]\n",
    "    \n",
    "    d = y_partials_result[2][\"symbol\"]\n",
    "    y_partial_derivative_wrt_d = y_partials_result[2][\"derivative\"]\n",
    "    \n",
    "    m = y_partials_result[3][\"symbol\"]\n",
    "    y_partial_derivative_wrt_m = y_partials_result[3][\"derivative\"]\n",
    "    \n",
    "    n = y_partials_result[4][\"symbol\"]\n",
    "    y_partial_derivative_wrt_n = y_partials_result[4][\"derivative\"]\n",
    "    \n",
    "    #make the derivative a callable function\n",
    "    y_partial_derivative_callable_phi_i = sp.lambdify([phi_i, lam, d, m, n], y_partial_derivative_wrt_phi_i)\n",
    "    y_partial_derivative_callable_lam = sp.lambdify([phi_i, lam, d, m, n], y_partial_derivative_wrt_lam)\n",
    "    y_partial_derivative_callable_d = sp.lambdify([phi_i, lam, d, m, n], y_partial_derivative_wrt_d)\n",
    "    y_partial_derivative_callable_m = sp.lambdify([phi_i, lam, d, m, n], y_partial_derivative_wrt_m)\n",
    "    y_partial_derivative_callable_n = sp.lambdify([phi_i, lam, d, m, n], y_partial_derivative_wrt_n)\n",
    "    \n",
    "    #use the points from the run for each error\n",
    "    phi_i = np.array(run[:,1])\n",
    "    ms = np.array(run[:,0])\n",
    "    ns = np.array(refrakt(run))\n",
    "    \n",
    "    #declare fixed values\n",
    "    d = 1 * 10**(-3)\n",
    "    lam = 650* 10**(-9)\n",
    "    \n",
    "    #declare errors\n",
    "    delta_phi_i = (0.2*(math.pi)/180)\n",
    "    delta_lam = 1*10**(-9)\n",
    "    delta_d = 0.1*10**(-3)\n",
    "    delta_m = 2\n",
    "    delta_n = slope_and_error(run)[\"slope\"]\n",
    "    \n",
    "    \n",
    "    #final expression for error\n",
    "    a = (y_partial_derivative_callable_phi_i(phi_i, lam, d, ms, ns) * delta_phi_i)**2\n",
    "    b = (y_partial_derivative_callable_lam(phi_i, lam, d, ms, ns)* delta_lam)**2\n",
    "    c = (y_partial_derivative_callable_d(phi_i, lam, d, ms, ns)* delta_d)**2\n",
    "    d = (y_partial_derivative_callable_m(phi_i, lam, d, ms, ns)* delta_m)**2\n",
    "    e = (y_partial_derivative_callable_n(phi_i, lam, d, ms, ns)* delta_n)**2\n",
    "    \n",
    "    y_del = np.sqrt(a + b + c + d + e)\n",
    "    \n",
    "    return y_del"
   ]
  },
  {
   "cell_type": "code",
   "execution_count": 83,
   "id": "b49694fd",
   "metadata": {},
   "outputs": [
    {
     "data": {
      "text/plain": [
       "array([6.09203909e-05, 6.46788390e-02, 7.35684241e-02, 8.35119812e-02,\n",
       "       9.14786962e-02, 1.00507039e-01, 1.12173521e-01, 1.21859582e-01,\n",
       "       1.29543499e-01, 1.38359167e-01, 1.46759826e-01, 1.54759715e-01,\n",
       "       1.65473742e-01, 1.75814535e-01, 1.85787023e-01])"
      ]
     },
     "execution_count": 83,
     "metadata": {},
     "output_type": "execute_result"
    }
   ],
   "source": [
    "y_errors(runB1)"
   ]
  },
  {
   "cell_type": "markdown",
   "id": "7aed6429",
   "metadata": {},
   "source": [
    "# The moment we've been working for, visualization and final error"
   ]
  },
  {
   "cell_type": "code",
   "execution_count": 99,
   "id": "c6027ad4",
   "metadata": {},
   "outputs": [],
   "source": [
    "def fit(run, model=\"linear\", n=1, supress_plot=False, supress_output=False,\n",
    "        title=\"Plot with fit\", xlabel=\"x-axis\", ylabel=\"y-axis\"):\n",
    "    '''\n",
    "    Fits a model to datapoints and corresponding errors, saving a plot of the data and fit.\n",
    "    Returns best fit parameters popt and corresponding covariance matrix pcov\n",
    "    INPUTS\n",
    "    -args\n",
    "        data:   n-by-4 array xdata, ydata, xerror, yerror\n",
    "    -kwargs\n",
    "        model:  string, model to fit on data, possible values are\n",
    "            {\"linear\", \"polynomial\", \"exponential\"}\n",
    "        n:      if model==\"polynomial\", degree of model polynomial\n",
    "        supress_plot:   bool, if True does not plot data and fit\n",
    "        supress_output: bool, if True does not return poopt and pcov\n",
    "    OUTPUTS\n",
    "        param:  optimal fit parameters\n",
    "        error:  error on optimal fit parameters\n",
    "    '''\n",
    "    x, y = matias(run)\n",
    "    y_err = y_errors(run)\n",
    "    x_err = x_errors(run)\n",
    "    \n",
    "    #set up data to fit using odr\n",
    "    odrData = RealData(x, y, y_err,y_err)#add , x_err to revert changes\n",
    "    \n",
    "    #set up linear model through the origin\n",
    "    func = lambda param,x: param*x\n",
    "    model = Model(func)\n",
    "    par_guess = np.ones(1)\n",
    "    \n",
    "    #set up ODR method\n",
    "    odr = ODR(odrData, model, par_guess)\n",
    "    odr.set_job(fit_type=0)#changed to type 2(least squares), previously 0\n",
    "\n",
    "    #compute fit parameters and their errors\n",
    "    output = odr.run()\n",
    "    param, error = output.beta, output.sd_beta\n",
    "\n",
    "    fit = lambda x: func(param,x)\n",
    "\n",
    "    #plot data, errorbars on data and fit on data\n",
    "    if not supress_plot:\n",
    "        plt.figure(figsize=(9,7))\n",
    "        plt.grid(True)\n",
    "        \n",
    "        plt.xlabel(\"xlabel\")\n",
    "        plt.ylabel(\"ylabel\")\n",
    "        plt.title(\"title\")\n",
    "\n",
    "        plt.errorbar(x, y , y_err, x_err ,fmt=\"or\",label=\"data with errorbars\")\n",
    "        x = np.linspace(x[0],x[-1],1000)\n",
    "        plt.plot(x,fit(x),color=\"b\",label=\"linear fit on data\")\n",
    "\n",
    "        plt.legend()\n",
    "\n",
    "        plt.show()\n",
    "\n",
    "    if not supress_output:\n",
    "        return param, error"
   ]
  },
  {
   "cell_type": "code",
   "execution_count": 100,
   "id": "e48535da",
   "metadata": {},
   "outputs": [
    {
     "data": {
      "image/png": "[encoded data removed]",
      "text/plain": [
       "<Figure size 648x504 with 1 Axes>"
      ]
     },
     "metadata": {
      "needs_background": "light"
     },
     "output_type": "display_data"
    },
    {
     "data": {
      "text/plain": [
       "(array([1.60785627]), array([0.01538909]))"
      ]
     },
     "execution_count": 100,
     "metadata": {},
     "output_type": "execute_result"
    }
   ],
   "source": [
    "fit(runB2)"
   ]
  },
  {
   "cell_type": "code",
   "execution_count": null,
   "id": "c14c7893",
   "metadata": {},
   "outputs": [],
   "source": []
  },
  {
   "cell_type": "code",
   "execution_count": null,
   "id": "e40e976a",
   "metadata": {},
   "outputs": [],
   "source": []
  }
 ],
 "metadata": {
  "kernelspec": {
   "display_name": "Python 3 (ipykernel)",
   "language": "python",
   "name": "python3"
  },
  "language_info": {
   "codemirror_mode": {
    "name": "ipython",
    "version": 3
   },
   "file_extension": ".py",
   "mimetype": "text/x-python",
   "name": "python",
   "nbconvert_exporter": "python",
   "pygments_lexer": "ipython3",
   "version": "3.9.7"
  }
 },
 "nbformat": 4,
 "nbformat_minor": 5
}
