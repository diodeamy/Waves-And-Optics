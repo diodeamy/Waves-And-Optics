{
 "cells": [
  {
   "cell_type": "markdown",
   "id": "b3322d4b",
   "metadata": {},
   "source": [
    "# Function Definition"
   ]
  },
  {
   "cell_type": "code",
   "execution_count": 48,
   "id": "1df5895d",
   "metadata": {},
   "outputs": [],
   "source": [
    "from scipy import optimize\n",
    "import math\n",
    "import numpy as np\n",
    "import pandas as pd\n",
    "import matplotlib.pyplot as plt\n",
    "from scipy.stats import linregress\n",
    "from sympy import symbols, diff\n",
    "import sympy as sp"
   ]
  },
  {
   "cell_type": "code",
   "execution_count": 3,
   "id": "44c3ef02",
   "metadata": {},
   "outputs": [],
   "source": [
    "def F(m, phi_i, d = 1*10**(-3), lam = 650*10**(-9)):\n",
    "    \"\"\"\"\n",
    "    This function takes as inputs the parameters from our experiment and returns another function, only in terms\n",
    "    of n, such that it can later be optimized while taking our parameteres as fixed.\n",
    "    \n",
    "    Parameters\n",
    "    -------\n",
    "    m : the number of fringes counter\n",
    "    d : thickness of the material plate\n",
    "    lam : wavelength of the light source\n",
    "    phi_i : angle through which we rotate the plate, to the normal angle of mirror\n",
    "    \n",
    "    Returns\n",
    "    -------\n",
    "    funk_to_optimize : a function containing the parameters as fixed, in terms of refractive index 'n'\n",
    "    \n",
    "    Notes\n",
    "    -------\n",
    "    \n",
    "    \"\"\"\n",
    "    \n",
    "    def funk_to_optimize(n):\n",
    "        \n",
    "        phi_r = math.asin(math.sin(phi_i)/n)\n",
    "        \n",
    "        return m - (2*d)/lam * (n*(1/math.cos(phi_r) - 1)\n",
    "                                + 1 - (math.cos(phi_i - phi_r)/math.cos(phi_r)))\n",
    "    \n",
    "    return funk_to_optimize"
   ]
  },
  {
   "cell_type": "code",
   "execution_count": 4,
   "id": "abecf076",
   "metadata": {},
   "outputs": [],
   "source": [
    "def refrakt(input_data, x0 = 1.4, x1 = 1.5):\n",
    "    \"\"\"\n",
    "    This one takes a list of data and returns the refractive index\n",
    "    \n",
    "    Params\n",
    "    -------\n",
    "    input_data : experimental data that contains number of fringes \n",
    "                 and angle of rotation\n",
    "    x0 = initial guess for optimization algorithm\n",
    "    x1 = second guess for optimization algorithm\n",
    "    \n",
    "    Returns\n",
    "    -------\n",
    "    output_data : list of refractive indices\n",
    "    \n",
    "    Example\n",
    "    -------\n",
    "    >>>refrakt([[20, 10.4], [40, 14.7]])\n",
    "    [4.79289677e+34, 4.28057195e+31]\n",
    "    \n",
    "    Notes\n",
    "    -------\n",
    "    We know that we are measuring glass-like material, so we expect \n",
    "    the refractive index to be somewhere between 1.4 and 1.5, hence \n",
    "    the default values for the initial two guesses\n",
    "    \n",
    "    \"\"\"\n",
    "    output_data = []\n",
    "    \n",
    "    for arr in input_data:\n",
    "        \n",
    "        m = arr[0]\n",
    "        phi_i = arr[1]\n",
    "    \n",
    "        func = F(m, phi_i)\n",
    "        n = optimize.root_scalar(func, x0 = x0, x1 = x1)\n",
    "    \n",
    "        output_data.append(n.root)\n",
    "        \n",
    "    return output_data"
   ]
  },
  {
   "cell_type": "markdown",
   "id": "0f41d879",
   "metadata": {},
   "source": [
    "# Data Import and Analysis"
   ]
  },
  {
   "cell_type": "code",
   "execution_count": 5,
   "id": "a0d08ca3",
   "metadata": {},
   "outputs": [],
   "source": [
    "def load(url):\n",
    "    run = pd.read_csv(url, dtype = \"float\").to_numpy()\n",
    "    \n",
    "    run[:,1] = np.radians(run[:,1])\n",
    "    \n",
    "    return run"
   ]
  },
  {
   "cell_type": "code",
   "execution_count": 6,
   "id": "24469b39",
   "metadata": {},
   "outputs": [],
   "source": [
    "runB1 = load(\"https://raw.githubusercontent.com/diodeamy/Waves-And-Optics/main/data/data_BR1.csv\")\n",
    "runB2 = load(\"https://raw.githubusercontent.com/diodeamy/Waves-And-Optics/main/data/data_BR2.csv\")\n",
    "runB3 = load(\"https://raw.githubusercontent.com/diodeamy/Waves-And-Optics/main/data/data_BR3.csv\")\n",
    "runW1 = load(\"https://raw.githubusercontent.com/diodeamy/Waves-And-Optics/main/data/data_WR1.csv\")\n",
    "runW2 = load(\"https://raw.githubusercontent.com/diodeamy/Waves-And-Optics/main/data/data_WR2.csv\")"
   ]
  },
  {
   "cell_type": "code",
   "execution_count": 7,
   "id": "3781502b",
   "metadata": {},
   "outputs": [],
   "source": [
    "#here we wish to make a function that returns the refractive indeces for each pair of angle-fringe \n",
    "#we also wish for it to compute y and x values to be plotted for the error function (this will need to take\n",
    "#the errors of angle and lalal into account)"
   ]
  },
  {
   "cell_type": "code",
   "execution_count": 8,
   "id": "1ff4590a",
   "metadata": {},
   "outputs": [],
   "source": [
    "def matias(run):\n",
    "    \n",
    "    lam = 650*10**(-9)\n",
    "    d = 1*10**3\n",
    "    phi_i = run[:,1]\n",
    "    m = run[:,0]\n",
    "    \n",
    "    n = np.array(refrakt(run))\n",
    "    \n",
    "    phi_r = np.arcsin(np.sin(phi_i/n))\n",
    "    \n",
    "    y = (lam/2*d)*m - 1 + np.cos(phi_i - phi_r)/np.cos(phi_r)\n",
    "    \n",
    "    x = 1/np.cos(phi_r) - 1\n",
    "    \n",
    "    return (x, y)"
   ]
  },
  {
   "cell_type": "code",
   "execution_count": 32,
   "id": "69e05042",
   "metadata": {},
   "outputs": [],
   "source": [
    "x, y = matias(runB1)"
   ]
  },
  {
   "cell_type": "code",
   "execution_count": 151,
   "id": "7fd55934",
   "metadata": {},
   "outputs": [],
   "source": [
    "def slope_and_error(run):\n",
    "    result = linregress(matias(run))\n",
    "    \n",
    "    return {\"slope\": result.slope, \"error\": result.stderr}"
   ]
  },
  {
   "cell_type": "markdown",
   "id": "e9667fc6",
   "metadata": {},
   "source": [
    "# The one where I create error functions"
   ]
  },
  {
   "cell_type": "code",
   "execution_count": 95,
   "id": "949100af",
   "metadata": {},
   "outputs": [],
   "source": [
    "#we need to let the computer know that we want it to differentiate with respect to certain variables\n",
    "\n",
    "##our errors are in phi_i, m, lam, d and the n we used in the trig functions\n",
    "\n",
    "def y_partials():\n",
    "    \n",
    "    phi_i, m, lam, d, n = symbols('phi_i m lam d n', real = True)\n",
    "\n",
    "    phi_r = sp.asin(sp.sin(phi_i/n))\n",
    "\n",
    "    y = (lam/2*d)*m - 1 + sp.cos(phi_i - phi_r)/sp.cos(phi_r)\n",
    "    \n",
    "    diff_y_phi_i = diff(y, phi_i)\n",
    "    diff_y_lam = diff(y, lam)\n",
    "    diff_y_d = diff(y, d)\n",
    "    diff_y_m = diff(y, m)\n",
    "    diff_y_n = diff(y, n)\n",
    "    \n",
    "    return (diff_y_phi_i, diff_y_lam, diff_y_d, diff_y_m, diff_y_n)\n",
    "     "
   ]
  },
  {
   "cell_type": "code",
   "execution_count": 133,
   "id": "4cda10b1",
   "metadata": {},
   "outputs": [],
   "source": [
    "def x_partials():\n",
    "    \n",
    "    phi_i, n = symbols('phi_i n', real = True)\n",
    "    \n",
    "    phi_r = sp.asin(sp.sin(phi_i/n))\n",
    "    x = 1/sp.cos(phi_r) - 1\n",
    "    \n",
    "    diff_x_n = diff(x, n)\n",
    "    diff_x_phi_i = diff(x, phi_i)\n",
    "    \n",
    "    return [\n",
    "        {\"symbol\": phi_i, \"derivative\": diff_x_phi_i}, \n",
    "        {\"symbol\": n, \"derivative\": diff_x_n}\n",
    "    ]"
   ]
  },
  {
   "cell_type": "code",
   "execution_count": 147,
   "id": "9dfbaf44",
   "metadata": {},
   "outputs": [],
   "source": [
    "def x_errors(delta_phi, delta_n, run):\n",
    "    \"\"\"\n",
    "    \n",
    "    \"\"\"\n",
    "    \n",
    "    x_partials_results = x_partials()\n",
    "    \n",
    "    phi_i = x_partials_results[0][\"symbol\"]\n",
    "    x_partial_derivative_wrt_phi_i = x_partials_results[0][\"derivative\"]\n",
    "    \n",
    "\n",
    "    n = x_partials_results[1][\"symbol\"]\n",
    "    x_partial_derivative_wrt_n = x_partials_results[1][\"derivative\"]\n",
    "\n",
    "    x_partial_derivative_callable_phi_i = sp.lambdify([phi_i, n], x_partial_derivative_wrt_phi_i)\n",
    "    x_partial_derivative_callable_n = sp.lambdify([phi_i, n], x_partial_derivative_wrt_n)\n",
    "    \n",
    "    phi_is = np.array(run[:,1])\n",
    "    ns = np.array(refrakt(run))\n",
    "\n",
    "    a = (x_partial_derivative_callable_phi_i(phi_is, ns) * delta_phi)**2\n",
    "    b = (x_partial_derivative_callable_n(phi_is, ns) * delta_n)**2\n",
    "    \n",
    "    x_del = np.sqrt(a + b)\n",
    "    \n",
    "    return x_del"
   ]
  },
  {
   "cell_type": "code",
   "execution_count": 152,
   "id": "750cd638",
   "metadata": {},
   "outputs": [
    {
     "data": {
      "text/plain": [
       "array([4.22962065e-54, 3.94612363e-52, 7.49333688e-07, 2.77874501e-04,\n",
       "       1.36224987e-03, 2.45957816e-03, 4.15286495e-03, 6.52942132e-03,\n",
       "       9.66071524e-03, 1.23203596e-02, 1.56928225e-02, 1.98207135e-02,\n",
       "       2.47505866e-02, 2.76833251e-02, 3.13989239e-02, 3.58974282e-02,\n",
       "       4.26157091e-02, 4.87801386e-02, 5.58271821e-02, 6.07907848e-02,\n",
       "       6.66449742e-02, 7.49102088e-02, 8.11027320e-02, 8.52386633e-02,\n",
       "       9.03506380e-02, 9.49666977e-02, 9.91214234e-02, 1.05687303e-01,\n",
       "       1.11801891e-01, 1.17483550e-01])"
      ]
     },
     "execution_count": 152,
     "metadata": {},
     "output_type": "execute_result"
    }
   ],
   "source": [
    "x_errors(0.2*(math.pi)/180, slope_and_error(runB1)[\"slope\"], runB1)"
   ]
  }
 ],
 "metadata": {
  "kernelspec": {
   "display_name": "Python 3 (ipykernel)",
   "language": "python",
   "name": "python3"
  },
  "language_info": {
   "codemirror_mode": {
    "name": "ipython",
    "version": 3
   },
   "file_extension": ".py",
   "mimetype": "text/x-python",
   "name": "python",
   "nbconvert_exporter": "python",
   "pygments_lexer": "ipython3",
   "version": "3.9.7"
  }
 },
 "nbformat": 4,
 "nbformat_minor": 5
}
